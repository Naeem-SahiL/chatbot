{
 "cells": [
  {
   "cell_type": "code",
   "execution_count": 10,
   "id": "8ff3793c-d6ad-46e3-bbfd-f421c8ff2cdb",
   "metadata": {},
   "outputs": [
    {
     "name": "stdout",
     "output_type": "stream",
     "text": [
      "Data categorized and saved to feature_dataset.jsonl\n"
     ]
    }
   ],
   "source": [
    "import os\n",
    "import json\n",
    "import re\n",
    "from docx import Document\n",
    "\n",
    "def get_feature_from_filename(filename, feature_patterns):\n",
    "    filename_lower = filename.lower()  # Normalize the case\n",
    "    for feature, pattern in feature_patterns.items():\n",
    "        if re.search(pattern, filename_lower):\n",
    "            return feature\n",
    "    return \"Unknown\"\n",
    "\n",
    "def get_file_type(file_path):\n",
    "    if 'controller' in file_path.lower():\n",
    "        return 'Controller'\n",
    "    elif 'model' in file_path.lower():\n",
    "        return 'Model'\n",
    "    elif 'service' in file_path.lower():\n",
    "        return 'Service'\n",
    "    elif 'repository' in file_path.lower():\n",
    "        return 'Repository'\n",
    "    elif file_path.lower().endswith('.docx'):\n",
    "        return 'SRS Document'\n",
    "    elif file_path.lower().endswith('.sql'):\n",
    "        return 'Database Schema'\n",
    "    else:\n",
    "        return 'Unknown'\n",
    "\n",
    "def read_file_content(file_path):\n",
    "    try:\n",
    "        if file_path.endswith('.docx'):\n",
    "            doc = Document(file_path)\n",
    "            return \"\\n\".join([paragraph.text for paragraph in doc.paragraphs])\n",
    "        else:\n",
    "            # Try reading with utf-8\n",
    "            try:\n",
    "                with open(file_path, 'r', encoding='utf-8-sig') as file:\n",
    "                    return file.read()\n",
    "            except UnicodeDecodeError:\n",
    "                # If utf-8 fails, try utf-16\n",
    "                with open(file_path, 'r', encoding='utf-16') as file:\n",
    "                    return file.read()\n",
    "    except Exception as e:\n",
    "        print(f\"Error reading file {file_path}: {e}\")\n",
    "        return \"\"\n",
    "\n",
    "def categorize_files_by_feature(repo_path, srs_path, schema_path, output_file, feature_patterns):\n",
    "    with open(output_file, 'w', encoding='utf-8') as f:\n",
    "        for path in [repo_path, srs_path, schema_path]:\n",
    "            for root, _, files in os.walk(path):\n",
    "                for file in files:\n",
    "                    feature_name = get_feature_from_filename(file, feature_patterns)\n",
    "                    file_path = os.path.join(root, file)\n",
    "                    file_type = get_file_type(file_path)\n",
    "                    file_content = read_file_content(file_path)\n",
    "\n",
    "                    if feature_name != \"Unknown\" and file_content:\n",
    "                        record = {\n",
    "                            \"feature_name\": feature_name,\n",
    "                            \"file_type\": file_type,\n",
    "                            \"file_name\": file,\n",
    "                            \"file_content\": file_content\n",
    "                        }\n",
    "                        \n",
    "                        f.write(json.dumps(record) + '\\n')\n",
    "\n",
    "    print(f\"Data categorized and saved to {output_file}\")\n",
    "\n",
    "# Regex patterns for features\n",
    "feature_patterns = {\n",
    "    \"Order Processing\": r\"order\",\n",
    "    \"Import Processing\": r\"import\",\n",
    "    \"Events\": r\"event\",\n",
    "    \"UID Management\": r\"unique[_\\s]*identifiable[_\\s]*marker|unique[_\\s]*identifier\"\n",
    "}\n",
    "\n",
    "\n",
    "# Example usage\n",
    "repo_path = 'C:\\\\Project'  # Absolute path to your project root\n",
    "srs_path = 'C:\\\\SRS Documents'  # Path where SRS documents are stored\n",
    "schema_path = 'C:\\\\Db Model'  # Path where database schema files are stored\n",
    "output_file = 'feature_dataset.jsonl'\n",
    "categorize_files_by_feature(repo_path, srs_path, schema_path, output_file, feature_patterns)\n"
   ]
  },
  {
   "cell_type": "code",
   "execution_count": null,
   "id": "4eb0fd6e-3bf8-4204-9cd7-806da860e29b",
   "metadata": {},
   "outputs": [],
   "source": [
    "pip install python-docx"
   ]
  },
  {
   "cell_type": "code",
   "execution_count": null,
   "id": "ed8fb20f-e736-4d13-9d1b-adddde832cf4",
   "metadata": {},
   "outputs": [],
   "source": []
  }
 ],
 "metadata": {
  "kernelspec": {
   "display_name": "Python 3 (ipykernel)",
   "language": "python",
   "name": "python3"
  },
  "language_info": {
   "codemirror_mode": {
    "name": "ipython",
    "version": 3
   },
   "file_extension": ".py",
   "mimetype": "text/x-python",
   "name": "python",
   "nbconvert_exporter": "python",
   "pygments_lexer": "ipython3",
   "version": "3.12.3"
  }
 },
 "nbformat": 4,
 "nbformat_minor": 5
}
